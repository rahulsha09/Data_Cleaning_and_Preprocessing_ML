{
  "nbformat": 4,
  "nbformat_minor": 0,
  "metadata": {
    "colab": {
      "provenance": []
    },
    "kernelspec": {
      "name": "python3",
      "display_name": "Python 3"
    },
    "language_info": {
      "name": "python"
    }
  },
  "cells": [
    {
      "cell_type": "markdown",
      "source": [
        "# Data Cleaning and Preprocessing"
      ],
      "metadata": {
        "id": "wRjKJ0GWj7WH"
      }
    },
    {
      "cell_type": "code",
      "execution_count": null,
      "metadata": {
        "id": "WftqXtvceC8I"
      },
      "outputs": [],
      "source": [
        "# Import Libraries\n",
        "\n",
        "import pandas as pd\n",
        "import numpy as np\n",
        "import matplotlib.pyplot as plt\n",
        "import seaborn as sns"
      ]
    },
    {
      "cell_type": "code",
      "source": [
        "# Load CSV file\n",
        "df = pd.read_csv('Titanic-Dataset.csv')"
      ],
      "metadata": {
        "id": "CnQGgpfOfEfE"
      },
      "execution_count": null,
      "outputs": []
    },
    {
      "cell_type": "code",
      "source": [
        "# Check basic info\n",
        "# use `info()` to see data types and missing values.\n",
        "print(df.info())"
      ],
      "metadata": {
        "id": "RyPnHtDcfExH",
        "colab": {
          "base_uri": "https://localhost:8080/"
        },
        "outputId": "9b53c54e-2522-4416-bae6-b197d8ba273c"
      },
      "execution_count": null,
      "outputs": [
        {
          "output_type": "stream",
          "name": "stdout",
          "text": [
            "<class 'pandas.core.frame.DataFrame'>\n",
            "RangeIndex: 891 entries, 0 to 890\n",
            "Data columns (total 12 columns):\n",
            " #   Column       Non-Null Count  Dtype  \n",
            "---  ------       --------------  -----  \n",
            " 0   PassengerId  891 non-null    int64  \n",
            " 1   Survived     891 non-null    int64  \n",
            " 2   Pclass       891 non-null    int64  \n",
            " 3   Name         891 non-null    object \n",
            " 4   Sex          891 non-null    object \n",
            " 5   Age          714 non-null    float64\n",
            " 6   SibSp        891 non-null    int64  \n",
            " 7   Parch        891 non-null    int64  \n",
            " 8   Ticket       891 non-null    object \n",
            " 9   Fare         891 non-null    float64\n",
            " 10  Cabin        204 non-null    object \n",
            " 11  Embarked     889 non-null    object \n",
            "dtypes: float64(2), int64(5), object(5)\n",
            "memory usage: 83.7+ KB\n",
            "None\n"
          ]
        }
      ]
    },
    {
      "cell_type": "code",
      "source": [
        "# Print upper 10 rows of dataset.\n",
        "print(df.head(10))"
      ],
      "metadata": {
        "id": "1o4AqMJjfEzl",
        "colab": {
          "base_uri": "https://localhost:8080/"
        },
        "outputId": "47b1da2d-9c40-468a-d8c8-f5db37fb4d61"
      },
      "execution_count": null,
      "outputs": [
        {
          "output_type": "stream",
          "name": "stdout",
          "text": [
            "   PassengerId  Survived  Pclass  \\\n",
            "0            1         0       3   \n",
            "1            2         1       1   \n",
            "2            3         1       3   \n",
            "3            4         1       1   \n",
            "4            5         0       3   \n",
            "5            6         0       3   \n",
            "6            7         0       1   \n",
            "7            8         0       3   \n",
            "8            9         1       3   \n",
            "9           10         1       2   \n",
            "\n",
            "                                                Name  Sex       Age     SibSp  \\\n",
            "0                            Braund, Mr. Owen Harris    0 -0.565736  0.432793   \n",
            "1  Cumings, Mrs. John Bradley (Florence Briggs Th...    1  0.663861  0.432793   \n",
            "2                             Heikkinen, Miss. Laina    1 -0.258337 -0.474545   \n",
            "3       Futrelle, Mrs. Jacques Heath (Lily May Peel)    1  0.433312  0.432793   \n",
            "4                           Allen, Mr. William Henry    0  0.433312 -0.474545   \n",
            "5                                   Moran, Mr. James    0 -0.104637 -0.474545   \n",
            "6                            McCarthy, Mr. Timothy J    0  1.893459 -0.474545   \n",
            "7                     Palsson, Master. Gosta Leonard    0 -2.102733  2.247470   \n",
            "8  Johnson, Mrs. Oscar W (Elisabeth Vilhelmina Berg)    1 -0.181487 -0.474545   \n",
            "9                Nasser, Mrs. Nicholas (Adele Achem)    1 -1.180535  0.432793   \n",
            "\n",
            "      Parch            Ticket      Fare  Embarked_Q  Embarked_S  \n",
            "0 -0.473674         A/5 21171 -0.502445       False        True  \n",
            "1 -0.473674          PC 17599  0.786845       False       False  \n",
            "2 -0.473674  STON/O2. 3101282 -0.488854       False        True  \n",
            "3 -0.473674            113803  0.420730       False        True  \n",
            "4 -0.473674            373450 -0.486337       False        True  \n",
            "5 -0.473674            330877 -0.478116        True       False  \n",
            "6 -0.473674             17463  0.395814       False        True  \n",
            "7  0.767630            349909 -0.224083       False        True  \n",
            "8  2.008933            347742 -0.424256       False        True  \n",
            "9 -0.473674            237736 -0.042956       False       False  \n"
          ]
        }
      ]
    },
    {
      "cell_type": "code",
      "source": [
        "# Check how many null values present in dataset in columns.\n",
        "# check missing values using `isnull().sum()`.\n",
        "print(df.isnull().sum())"
      ],
      "metadata": {
        "id": "pqZWA9TwfE2M",
        "colab": {
          "base_uri": "https://localhost:8080/"
        },
        "outputId": "1993b0f4-e543-4d85-a022-063c5836fb04"
      },
      "execution_count": null,
      "outputs": [
        {
          "output_type": "stream",
          "name": "stdout",
          "text": [
            "PassengerId      0\n",
            "Survived         0\n",
            "Pclass           0\n",
            "Name             0\n",
            "Sex              0\n",
            "Age            177\n",
            "SibSp            0\n",
            "Parch            0\n",
            "Ticket           0\n",
            "Fare             0\n",
            "Cabin          687\n",
            "Embarked         2\n",
            "dtype: int64\n"
          ]
        }
      ]
    },
    {
      "cell_type": "code",
      "source": [
        "# Find the values\n",
        "#  Use `describe()` for quick statistics.\n",
        "print(df.describe())"
      ],
      "metadata": {
        "id": "D8GtBkRSfE4u",
        "colab": {
          "base_uri": "https://localhost:8080/"
        },
        "outputId": "07e5e279-cdc4-4395-c8fd-11770ce7c886"
      },
      "execution_count": null,
      "outputs": [
        {
          "output_type": "stream",
          "name": "stdout",
          "text": [
            "       PassengerId    Survived      Pclass         Age       SibSp  \\\n",
            "count   891.000000  891.000000  891.000000  714.000000  891.000000   \n",
            "mean    446.000000    0.383838    2.308642   29.699118    0.523008   \n",
            "std     257.353842    0.486592    0.836071   14.526497    1.102743   \n",
            "min       1.000000    0.000000    1.000000    0.420000    0.000000   \n",
            "25%     223.500000    0.000000    2.000000   20.125000    0.000000   \n",
            "50%     446.000000    0.000000    3.000000   28.000000    0.000000   \n",
            "75%     668.500000    1.000000    3.000000   38.000000    1.000000   \n",
            "max     891.000000    1.000000    3.000000   80.000000    8.000000   \n",
            "\n",
            "            Parch        Fare  \n",
            "count  891.000000  891.000000  \n",
            "mean     0.381594   32.204208  \n",
            "std      0.806057   49.693429  \n",
            "min      0.000000    0.000000  \n",
            "25%      0.000000    7.910400  \n",
            "50%      0.000000   14.454200  \n",
            "75%      0.000000   31.000000  \n",
            "max      6.000000  512.329200  \n"
          ]
        }
      ]
    },
    {
      "cell_type": "markdown",
      "source": [
        "#Handle Missing Values"
      ],
      "metadata": {
        "id": "3bELFGIpjZva"
      }
    },
    {
      "cell_type": "code",
      "source": [
        "# Drop Cabin column (To missing many values)\n",
        "df = df.drop('Cabin', axis=1)"
      ],
      "metadata": {
        "id": "ju-KKawkgruH"
      },
      "execution_count": null,
      "outputs": []
    },
    {
      "cell_type": "code",
      "source": [
        "# Fill Age and Fare with median\n",
        "df['Age'] = df['Age'].fillna(df['Age'].median())\n",
        "df['Fare'] = df['Fare'].fillna(df['Fare'].median())"
      ],
      "metadata": {
        "id": "sT4DeTRtgrwS"
      },
      "execution_count": null,
      "outputs": []
    },
    {
      "cell_type": "code",
      "source": [
        "# Fill Embarked with most common value\n",
        "df['Embarked'] = df['Embarked'].fillna(df['Embarked'].mode()[0])"
      ],
      "metadata": {
        "id": "EsFcpAdxfE8J"
      },
      "execution_count": null,
      "outputs": []
    },
    {
      "cell_type": "code",
      "source": [
        "# Check again for remaining missing values\n",
        "print(df.isnull().sum())"
      ],
      "metadata": {
        "colab": {
          "base_uri": "https://localhost:8080/"
        },
        "id": "l90dF7bbhL2Q",
        "outputId": "9ad4be06-129a-4afe-c941-d2288c0802a0"
      },
      "execution_count": null,
      "outputs": [
        {
          "output_type": "stream",
          "name": "stdout",
          "text": [
            "PassengerId    0\n",
            "Survived       0\n",
            "Pclass         0\n",
            "Name           0\n",
            "Sex            0\n",
            "Age            0\n",
            "SibSp          0\n",
            "Parch          0\n",
            "Ticket         0\n",
            "Fare           0\n",
            "Embarked       0\n",
            "dtype: int64\n"
          ]
        }
      ]
    },
    {
      "cell_type": "markdown",
      "source": [
        "# Encode Categorical Variables/ Features."
      ],
      "metadata": {
        "id": "qjGGd35JkOMs"
      }
    },
    {
      "cell_type": "code",
      "source": [
        "# Convert “Sex” and “Embarked” to numbers.\n",
        "# Encode 'Sex' (Label encoding: male=0, female=1)\n",
        "\n",
        "df['Sex'] = df['Sex'].map({'male': 0, 'female': 1})"
      ],
      "metadata": {
        "id": "gR3zCPYehL4t"
      },
      "execution_count": null,
      "outputs": []
    },
    {
      "cell_type": "code",
      "source": [
        "# One-hot encode 'Embarked'\n",
        "df = pd.get_dummies(df, columns=['Embarked'], drop_first=True)"
      ],
      "metadata": {
        "id": "MAiVF7AWhL7T"
      },
      "execution_count": null,
      "outputs": []
    },
    {
      "cell_type": "code",
      "source": [
        "# Remove outliers using percentile method\n",
        "for col in ['Age', 'Fare']:\n",
        "    lower = df[col].quantile(0.01)\n",
        "    upper = df[col].quantile(0.99)\n",
        "    df = df[(df[col] >= lower) & (df[col] <= upper)]\n",
        "\n",
        "print(df.shape)\n"
      ],
      "metadata": {
        "colab": {
          "base_uri": "https://localhost:8080/"
        },
        "id": "PFRIgu3LhMDT",
        "outputId": "bdb89353-ba17-4c22-d15b-4e1b07e140f5"
      },
      "execution_count": null,
      "outputs": [
        {
          "output_type": "stream",
          "name": "stdout",
          "text": [
            "(867, 12)\n"
          ]
        }
      ]
    },
    {
      "cell_type": "markdown",
      "source": [
        "# Normalize/Standardize Numerical Features"
      ],
      "metadata": {
        "id": "-JDs4kGck1SD"
      }
    },
    {
      "cell_type": "code",
      "source": [
        "# Numerical columns: Age, Fare, SibSp, Parch\n",
        "from sklearn.preprocessing import StandardScaler"
      ],
      "metadata": {
        "colab": {
          "base_uri": "https://localhost:8080/"
        },
        "id": "yAE1K_i0hL9r",
        "outputId": "1ef918d6-b80a-48a6-c2e5-2e25339b0e76"
      },
      "execution_count": null,
      "outputs": [
        {
          "output_type": "stream",
          "name": "stdout",
          "text": [
            "   PassengerId  Survived  Pclass  \\\n",
            "0            1         0       3   \n",
            "1            2         1       1   \n",
            "2            3         1       3   \n",
            "3            4         1       1   \n",
            "4            5         0       3   \n",
            "\n",
            "                                                Name  Sex       Age     SibSp  \\\n",
            "0                            Braund, Mr. Owen Harris    0 -0.565736  0.432793   \n",
            "1  Cumings, Mrs. John Bradley (Florence Briggs Th...    1  0.663861  0.432793   \n",
            "2                             Heikkinen, Miss. Laina    1 -0.258337 -0.474545   \n",
            "3       Futrelle, Mrs. Jacques Heath (Lily May Peel)    1  0.433312  0.432793   \n",
            "4                           Allen, Mr. William Henry    0  0.433312 -0.474545   \n",
            "\n",
            "      Parch            Ticket      Fare  Embarked_Q  Embarked_S  \n",
            "0 -0.473674         A/5 21171 -0.502445       False        True  \n",
            "1 -0.473674          PC 17599  0.786845       False       False  \n",
            "2 -0.473674  STON/O2. 3101282 -0.488854       False        True  \n",
            "3 -0.473674            113803  0.420730       False        True  \n",
            "4 -0.473674            373450 -0.486337       False        True  \n"
          ]
        }
      ]
    },
    {
      "cell_type": "code",
      "source": [
        "scaler = StandardScaler()\n",
        "num_cols = ['Age', 'Fare', 'SibSp', 'Parch']\n",
        "df[num_cols] = scaler.fit_transform(df[num_cols])"
      ],
      "metadata": {
        "id": "Ko17UwDBlE8U"
      },
      "execution_count": null,
      "outputs": []
    },
    {
      "cell_type": "code",
      "source": [
        "# Standardization sets mean to 0 and stdev to 1, making features comparable in scale.\n",
        "print(df.head())"
      ],
      "metadata": {
        "id": "lySLGhQtlE_v"
      },
      "execution_count": null,
      "outputs": []
    },
    {
      "cell_type": "markdown",
      "source": [
        "#Visualize & Remove Outliers\n"
      ],
      "metadata": {
        "id": "0_hD2_QPloZl"
      }
    },
    {
      "cell_type": "code",
      "source": [
        "# We use boxplots to check for outliers, then remove extreme ones using percentiles.\n",
        "for col in ['Age', 'Fare']:\n",
        "    plt.figure(figsize=(6,1))\n",
        "    sns.boxplot(df[col])\n",
        "    plt.title(f'Boxplot of {col}')\n",
        "    plt.show()"
      ],
      "metadata": {
        "colab": {
          "base_uri": "https://localhost:8080/",
          "height": 265
        },
        "id": "PHFyuwZwlnoC",
        "outputId": "6389b4ad-16d7-4bbf-899f-06d1c0cad55d"
      },
      "execution_count": 22,
      "outputs": [
        {
          "output_type": "display_data",
          "data": {
            "text/plain": [
              "<Figure size 600x100 with 1 Axes>"
            ],
            "image/png": "[encoded data removed]"
          },
          "metadata": {}
        },
        {
          "output_type": "display_data",
          "data": {
            "text/plain": [
              "<Figure size 600x100 with 1 Axes>"
            ],
            "image/png": "[encoded data removed]"
          },
          "metadata": {}
        }
      ]
    },
    {
      "cell_type": "code",
      "source": [
        "# Remove outliers using percentile method\n",
        "for col in ['Age', 'Fare']:\n",
        "    lower = df[col].quantile(0.01)\n",
        "    upper = df[col].quantile(0.99)\n",
        "    df = df[(df[col] >= lower) & (df[col] <= upper)]\n",
        "\n",
        "print(df.shape)"
      ],
      "metadata": {
        "colab": {
          "base_uri": "https://localhost:8080/"
        },
        "id": "uivGayIUlnqY",
        "outputId": "3459c5e5-f005-4df0-b438-324830d1a1c8"
      },
      "execution_count": null,
      "outputs": [
        {
          "output_type": "stream",
          "name": "stdout",
          "text": [
            "(846, 12)\n"
          ]
        }
      ]
    },
    {
      "cell_type": "markdown",
      "source": [
        "#Save Cleaned Data"
      ],
      "metadata": {
        "id": "aMqChzbZl_0G"
      }
    },
    {
      "cell_type": "code",
      "source": [
        "df.to_csv('Titanic_Cleaned.csv', index=False)"
      ],
      "metadata": {
        "id": "nGfDegukhMF8"
      },
      "execution_count": null,
      "outputs": []
    },
    {
      "cell_type": "code",
      "source": [],
      "metadata": {
        "id": "oiGy-mlwhMJU"
      },
      "execution_count": null,
      "outputs": []
    }
  ]
}